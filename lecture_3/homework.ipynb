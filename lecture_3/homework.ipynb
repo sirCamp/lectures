{
 "cells": [
  {
   "cell_type": "markdown",
   "metadata": {},
   "source": [
    "### Homework\n",
    "\n",
    "In data folder you should have the ```students.csv```. This file contains ~500000 record.\n",
    "Each record represents a student:\n",
    "   + name: student's name\n",
    "   + address: student's address\n",
    "   + age: student's age\n",
    "   + college: student's university\n",
    "   + degree_course: student's degree course\n",
    "   + exam_score_mean: mean of all the student exams\n",
    "   + exam1: score of the exam1\n",
    "   + exam2: score of the exam2\n",
    "   + exam3: score of the exam3\n",
    "   + exam4: score of the exam4\n",
    "   + exam5: score of the exam5\n",
    "   + exam6: score of the exam6\n",
    "   + exam7: score of the exam7\n",
    "   + exam8: score of the exam8\n",
    "   + exam9: score of the exam9\n",
    "   + exam10: score of the exam10"
   ]
  },
  {
   "cell_type": "code",
   "execution_count": 10,
   "metadata": {},
   "outputs": [],
   "source": [
    "import time\n",
    "import os\n",
    "import dask\n",
    "import dask.dataframe as dd\n",
    "import pandas as pd\n",
    "from dask.distributed import Client\n",
    "import csv"
   ]
  },
  {
   "cell_type": "code",
   "execution_count": 11,
   "metadata": {},
   "outputs": [],
   "source": [
    "columns_types = {'id': str,\n",
    "'name': str,\n",
    "'address': str,\n",
    "'age': int,\n",
    "'college':str,\n",
    "'degree_course':str,\n",
    "'exam_score_mean': float,\n",
    "'exam1':float,\n",
    "'exam2':float,\n",
    "'exam3':float,\n",
    "'exam4':float,\n",
    "'exam5':float,\n",
    "'exam6':float,\n",
    "'exam7':float,\n",
    "'exam8':float,\n",
    "'exam9':float,\n",
    "'exam10':float\n",
    "}"
   ]
  },
  {
   "cell_type": "code",
   "execution_count": 12,
   "metadata": {},
   "outputs": [],
   "source": [
    "\n",
    "## you have to create and to connect to your cluster\n",
    "c = Client()\n",
    "filename = os.path.join('data', 'students.csv')\n",
    "\n",
    "#read the file\n",
    "df = dd.read_csv(filename,dtype=columns_types, delimiter=\";\", quoting=csv.QUOTE_ALL)"
   ]
  },
  {
   "cell_type": "markdown",
   "metadata": {},
   "source": [
    "### Exercise 1:\n",
    "\n",
    "Try to compute the max score for the exam1. Then try to change the number of partition an choose the number of partition that takes less time to compute the max score for exam1"
   ]
  },
  {
   "cell_type": "code",
   "execution_count": 13,
   "metadata": {},
   "outputs": [
    {
     "name": "stdout",
     "output_type": "stream",
     "text": [
      "CPU times: user 1.7 s, sys: 451 ms, total: 2.15 s\n",
      "Wall time: 3.47 s\n"
     ]
    },
    {
     "data": {
      "text/plain": [
       "29.0"
      ]
     },
     "execution_count": 13,
     "metadata": {},
     "output_type": "execute_result"
    }
   ],
   "source": [
    "\n",
    "#df = df.repartition(npartitions=)\n",
    "\n",
    "%time #put your code here to get the max score for exam1\n",
    "#df.exam1.max().compute()\n",
    "\n",
    "\n",
    "#solution for max score: 29.0\n",
    "#solution for best npartitions: 4 >= x <= 16\n"
   ]
  },
  {
   "cell_type": "markdown",
   "metadata": {},
   "source": [
    "### Exercise 2:\n",
    "Try to compute the mean score for the exam5 of all students.\n",
    "\n",
    "The plot the chart of the scores of the exams5 of all students named ```Lucia Damico```"
   ]
  },
  {
   "cell_type": "code",
   "execution_count": 14,
   "metadata": {},
   "outputs": [],
   "source": [
    "%matplotlib inline"
   ]
  },
  {
   "cell_type": "code",
   "execution_count": 15,
   "metadata": {},
   "outputs": [
    {
     "data": {
      "text/plain": [
       "23.496144"
      ]
     },
     "execution_count": 15,
     "metadata": {},
     "output_type": "execute_result"
    }
   ],
   "source": [
    "#put your code here for the mean, result should be 23.496144\n",
    "df.exam5.mean().compute()"
   ]
  },
  {
   "cell_type": "code",
   "execution_count": 37,
   "metadata": {},
   "outputs": [
    {
     "name": "stdout",
     "output_type": "stream",
     "text": [
      "9\n",
      "9\n"
     ]
    },
    {
     "data": {
      "text/plain": [
       "<matplotlib.axes._subplots.AxesSubplot at 0x7fe75faaf3d0>"
      ]
     },
     "execution_count": 37,
     "metadata": {},
     "output_type": "execute_result"
    },
    {
     "data": {
      "image/png": "[encoded data removed]",
      "text/plain": [
       "<Figure size 432x288 with 1 Axes>"
      ]
     },
     "metadata": {
      "needs_background": "light"
     },
     "output_type": "display_data"
    }
   ],
   "source": [
    "df_lucia_damico = df[df['name'] == 'Lucia Damico']\n",
    "df_lucia_damico = df_lucia_damico.reset_index()\n",
    "\n",
    "## put your code here in order\n",
    "df_lucia_damico_exams = df_lucia_damico[['exam5']].compute()\n",
    "\n",
    "#print(len(df_lucia_damico))\n",
    "#df_lucia_damico = df_lucia_damico.reset_index()\n",
    "\n",
    "#df_lucia_damico.head()\n",
    "\n",
    "df_lucia_damico_exams.plot()"
   ]
  },
  {
   "cell_type": "markdown",
   "metadata": {},
   "source": [
    "### Exercise 3:\n",
    "\n",
    "Try to calculate the mean of the ```exam_score_mean``` for all the students enrolled on each university"
   ]
  },
  {
   "cell_type": "code",
   "execution_count": 38,
   "metadata": {},
   "outputs": [
    {
     "data": {
      "text/plain": [
       "college\n",
       "University of Milano    24.150582\n",
       "University of Padova    24.153167\n",
       "University of Trento    24.150894\n",
       "University of Verona    24.148663\n",
       "Name: exam_score_mean, dtype: float64"
      ]
     },
     "execution_count": 38,
     "metadata": {},
     "output_type": "execute_result"
    }
   ],
   "source": [
    "#df.groupby('college').exam_score_mean.mean().compute()\n",
    "#put your code here\n",
    "\n",
    "#output should be something like:\n",
    "#University of Milano    24.150582\n",
    "#University of Padova    24.153167\n",
    "#University of Trento    24.150894\n",
    "#University of Verona    24.148663"
   ]
  },
  {
   "cell_type": "markdown",
   "metadata": {},
   "source": [
    "### Exercise 4:\n",
    "Try to calculate the mean of the exam10 for all the students enrolled at ```University of Padova``` "
   ]
  },
  {
   "cell_type": "code",
   "execution_count": 39,
   "metadata": {},
   "outputs": [
    {
     "data": {
      "text/plain": [
       "23.49068955368719"
      ]
     },
     "execution_count": 39,
     "metadata": {},
     "output_type": "execute_result"
    }
   ],
   "source": [
    "df = df[df['college'] == 'University of Padova']\n",
    "df.exam10.mean().compute()"
   ]
  },
  {
   "cell_type": "code",
   "execution_count": null,
   "metadata": {},
   "outputs": [],
   "source": []
  }
 ],
 "metadata": {
  "kernelspec": {
   "display_name": "Python 2",
   "language": "python",
   "name": "python2"
  },
  "language_info": {
   "codemirror_mode": {
    "name": "ipython",
    "version": 2
   },
   "file_extension": ".py",
   "mimetype": "text/x-python",
   "name": "python",
   "nbconvert_exporter": "python",
   "pygments_lexer": "ipython2",
   "version": "2.7.15rc1"
  }
 },
 "nbformat": 4,
 "nbformat_minor": 2
}
