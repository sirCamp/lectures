{
 "cells": [
  {
   "cell_type": "code",
   "execution_count": 3,
   "metadata": {},
   "outputs": [
    {
     "name": "stdout",
     "output_type": "stream",
     "text": [

      "('distributed', 8.291867971420288)\n",
      "('threading', 0.7585201263427734)\n",
      "('processes', 4.414384841918945)\n",
      "('sync', 0.3203139305114746)\n"

      "('dist', 13.026534795761108)\n"

     ]
    }
   ],
   "source": [
    "import time\n",
    "import os\n",
    "import dask\n",
    "import dask.dataframe as dd\n",
    "import pandas as pd\n",
    "from dask.distributed import Client\n",
    "c = Client('192.168.9.30:8786')\n",
    "\n",
    "filename = os.path.join('data', 'students.csv')\n",
    "df = pd.read_csv(filename)\n",
    "\n",
    "#sd = dd.from_pandas(df, npartitions=2)\n",
    "\n",
    "\n",
    "future = c.scatter(df) \n",
    "#<<<<<<< HEAD\n",
    "ddf = dd.from_delayed([future], meta=df)#.repartition(npartitions=100)\n",
    "#c.rebalance(ddf)\n",
    "ddf = ddf.set_index('id')\n",
    "\n",
    "dddf = dd.from_pandas(df, npartitions=1000)#.set_index('id')\n",
    "#======= \n",
    "ddf = dd.from_delayed([future], meta=df)\n",
    "#ddf = c.persist(sd.set_index('id'))\n",
    "#ddf = ddf.set_index('id')\n",
    "#>>>>>>> 5398ca345f416d40fbab125c4d46d989c50285c8 \n",
    "#ddf = c.persist(sd)ddf = dd.from_delayed([future], meta=df)\n",
    "#ddf = ddf.repartition(npartitions=2000).persist()\n",
    "c.rebalance(ddf)\n",
    "#df = dd.read_csv(filename)\n",
    "#<<<<<<< HEAD \n",
    "for sch in ['distributed','threading', 'processes', 'sync']:\n",
    "    \n",
    "    max_exam_degree = dddf.exam10.max()\n",
    "    if(sch == 'distributed'):\n",
    "        max_exam_degree = ddf.exam10.max()\n",
    "    t0 = time.time()\n",
    "    max_exam_degree.compute(scheduler=sch)\n",
    "    print(sch, time.time() - t0)\n",
    "    #c.restart()\n",
    "#=======\n",
    "t0 = time.time()\n",
    "ddf.exam10.max().compute(scheduler='distributed')\n",
    "print('dist', time.time() - t0)\n",
    "#>>>>>>> 5398ca345f416d40fbab125c4d46d989c50285c8\n",
    "\n",
    "\n",
    "#largest_delay = dd.from_pandas(df, npartitions=12).set_index('id').max()\n",
    "#for sch in [ ]:\n",
    "#    t0 = time.time()\n",
    "#    _ = largest_delay.compute(scheduler=sch)\n",
    "#    print(sch, time.time() - t0)\n",
    "#    \n",
    "#    \n",
    "#    \n",
    "#    \n",
    "#import pandas\n",
    "#import dask.dataframe as dd\n",
    "#from dask.distributed import Client#\n",
    "#\n",
    "#client = Client('scheduler-address:8786')#\n",
    "#\n",
    "#df = pd.read_csv('myfile.csv')\n",
    "#future = client.scatter(df)  # send dataframe to one worker\n",
    "#ddf = dd.from_delayed([future], meta=df)  # build dask.dataframe on remote data\n",
    "#ddf = ddf.repartition(npartitions=20).persist()  # split\n",
    "#client.rebalance(ddf)  # spread around all of your workers    \n",
    "#\"\"\""
   ]
  },
  {
   "cell_type": "code",
   "execution_count": null,
   "metadata": {},
   "outputs": [],
   "source": []
  },
  {
   "cell_type": "code",
   "execution_count": null,
   "metadata": {},
   "outputs": [],
   "source": []
  }
 ],
 "metadata": {
  "kernelspec": {
   "display_name": "Python 2",
   "language": "python",
   "name": "python2"
  },
  "language_info": {
   "codemirror_mode": {
    "name": "ipython",
    "version": 2
   },
   "file_extension": ".py",
   "mimetype": "text/x-python",
   "name": "python",
   "nbconvert_exporter": "python",
   "pygments_lexer": "ipython2",
   "version": "2.7.15rc1"
  }
 },
 "nbformat": 4,
 "nbformat_minor": 1
}
