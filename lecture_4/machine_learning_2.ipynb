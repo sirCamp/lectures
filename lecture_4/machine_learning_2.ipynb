{
 "cells": [
  {
   "cell_type": "code",
   "execution_count": 1,
   "metadata": {},
   "outputs": [
    {
     "name": "stdout",
     "output_type": "stream",
     "text": [
      "Example of datset row: [[-0.18772702  0.86392355 -0.85097508  0.24207067 -1.11319454 -1.21213851\n",
      "   0.84060671 -0.97462066 -0.19090562  0.76913578]]\n"
     ]
    }
   ],
   "source": [
    "from dask.distributed import Client\n",
    "from sklearn.datasets import make_classification\n",
    "\n",
    "\n",
    "client = Client('192.168.1.9:8786')\n",
    "X, y = make_classification(n_samples=3000, n_features=10, random_state=42)\n",
    "print(\"Example of datset row: \"+str(X[:1]))\n",
    "\n",
    "\n",
    "\n"
   ]
  },
  {
   "cell_type": "code",
   "execution_count": 2,
   "metadata": {},
   "outputs": [
    {
     "name": "stderr",
     "output_type": "stream",
     "text": [
      "No handlers could be found for logger \"dask_ml.model_selection._split\"\n"
     ]
    }
   ],
   "source": [
    "from dask_ml.model_selection import train_test_split\n",
    "import dask\n",
    "X_train, X_test, y_train, y_test = train_test_split(X, y)\n",
    "X_train\n",
    "\n",
    "X_train, X_test, y_train, y_test = dask.persist(X_train, X_test, y_train, y_test)"
   ]
  },
  {
   "cell_type": "code",
   "execution_count": 3,
   "metadata": {},
   "outputs": [
    {
     "name": "stdout",
     "output_type": "stream",
     "text": [
      "[0.00526529 0.00559636 0.00498017 0.00591815 0.03548376 0.37766434\n",
      " 0.00590581 0.4805     0.07320425 0.00548187]\n"
     ]
    }
   ],
   "source": [
    "from sklearn.externals.joblib import parallel_backend\n",
    "from sklearn.ensemble import RandomForestClassifier\n",
    "with parallel_backend('dask'):\n",
    "    clf = RandomForestClassifier(n_jobs=-1,n_estimators=1000, max_depth=10,   random_state=0)\n",
    "    clf.fit(X, y)\n",
    "    print(clf.feature_importances_)"
   ]
  },
  {
   "cell_type": "code",
   "execution_count": 8,
   "metadata": {},
   "outputs": [],
   "source": [
    "from dask_ml.datasets import make_classification\n",
    "X_big, y_big = make_classification(n_samples=10000000,\n",
    "                                                        random_state=0,n_features=10, chunks=100000)"
   ]
  },
  {
   "cell_type": "code",
   "execution_count": 9,
   "metadata": {},
   "outputs": [
    {
     "data": {
      "text/plain": [
       "array([0, 0, 0, ..., 0, 1, 0])"
      ]
     },
     "execution_count": 9,
     "metadata": {},
     "output_type": "execute_result"
    }
   ],
   "source": [
    "from dask_ml.wrappers import ParallelPostFit\n",
    "clf = ParallelPostFit(estimator=clf, scoring = 'accuracy')\n",
    "\n",
    "clf.predict(X_big).compute()"
   ]
  },
  {
   "cell_type": "code",
   "execution_count": null,
   "metadata": {},
   "outputs": [],
   "source": []
  }
 ],
 "metadata": {
  "kernelspec": {
   "display_name": "Python 2",
   "language": "python",
   "name": "python2"
  },
  "language_info": {
   "codemirror_mode": {
    "name": "ipython",
    "version": 2
   },
   "file_extension": ".py",
   "mimetype": "text/x-python",
   "name": "python",
   "nbconvert_exporter": "python",
   "pygments_lexer": "ipython2",
   "version": "2.7.15rc1"
  }
 },
 "nbformat": 4,
 "nbformat_minor": 2
}
