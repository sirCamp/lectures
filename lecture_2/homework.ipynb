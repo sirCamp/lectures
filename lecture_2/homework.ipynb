{
 "cells": [
  {
   "cell_type": "markdown",
   "metadata": {},
   "source": [
    "### Homework"
   ]
  },
  {
   "cell_type": "markdown",
   "metadata": {},
   "source": [
    "Homework are made of two simple problems that summarize what we have see in the class. \n",
    "For each exercise you will find the expected output (a.k.a solution)"
   ]
  },
  {
   "cell_type": "code",
   "execution_count": null,
   "metadata": {},
   "outputs": [],
   "source": [
    "from dask.distributed import Client\n",
    "from dask import delayed"
   ]
  },
  {
   "cell_type": "code",
   "execution_count": null,
   "metadata": {},
   "outputs": [],
   "source": [
    "client = Client()\n",
    "client.cluster"
   ]
  },
  {
   "cell_type": "markdown",
   "metadata": {},
   "source": [
    "### Problem 1: \n",
    "Use ```map``` function to get the row wise common items in ```list_A``` and ```list_B```. \n",
    "\n",
    "In order to get the common item you should use the```get_commons``` function.\n",
    "\n",
    "\n",
    "**Hint** use the ```zip``` function to zip two lists together in order to iterate both at the same time"
   ]
  },
  {
   "cell_type": "code",
   "execution_count": null,
   "metadata": {},
   "outputs": [],
   "source": [
    "list_A = [[1, 2, 3], [5, 6, 7, 8], [10, 11, 12], [20, 21]]\n",
    "list_B = [[2, 3, 4, 5], [6, 9, 10], [11, 12, 13, 14], [21, 24, 25]]\n",
    "\n",
    "def get_commons(args):\n",
    "    \"\"\"\n",
    "        This function takes as input a tuple that contains a row of list_A and a row of list_B\n",
    "    \"\"\"\n",
    "    list_1 = args[0]\n",
    "    list_2 = args[1]\n",
    "    return list(set(list_1).intersection(list_2))\n",
    "\n",
    "\n",
    "future = client.map(get_commons, [(l1, l2) for l1, l2 in zip(list_A, list_B)])\n",
    "results = client.gather(future)\n",
    "\n",
    "## solution should be: [[2, 3], [6], [11, 12], [21]]\n",
    "## *** the order of the results may change due to the order of the instruction execution on the cluster ***\n",
    "\n",
    "print(\"The commons items are: \"+str(results))"
   ]
  },
  {
   "cell_type": "markdown",
   "metadata": {},
   "source": [
    "### Problem 2: \n",
    "\n",
    "Normalize each row of a matrix to vary between 0 and 1. Use  the ```submit``` function to submit each task to the cluster and the ```map``` function to process each row.\n",
    "\n"
   ]
  },
  {
   "cell_type": "code",
   "execution_count": null,
   "metadata": {},
   "outputs": [],
   "source": [
    "list_a = [[2, 3, 4, 5], [6, 9, 10, 12], [11, 12, 13, 14], [21, 24, 25, 26]]\n",
    "\n",
    "def normalize(row):\n",
    "    \n",
    "    mn = min(row)\n",
    "    mx = max(row)\n",
    "    result = []\n",
    "    for n in row:\n",
    "        result.append((float(n)-mn)/(mx-mn))\n",
    "    return result\n",
    "    \n",
    "    \n",
    "futures = []    \n",
    "for row in list_a:\n",
    "    \n",
    "    futures.append() ##put your code here\n",
    "\n",
    "##print the results here    \n",
    "## results should be:\n",
    "## [0.0, 0.3333333333333333, 0.6666666666666666, 1.0]\n",
    "## [0.0, 0.5, 0.6666666666666666, 1.0]\n",
    "## [0.0, 0.3333333333333333, 0.6666666666666666, 1.0]\n",
    "## [0.0, 0.6, 0.8, 1.0]\n",
    "for row in futures:\n",
    "    "
   ]
  },
  {
   "cell_type": "code",
   "execution_count": null,
   "metadata": {},
   "outputs": [],
   "source": []
  }
 ],
 "metadata": {
  "kernelspec": {
   "display_name": "Python 2",
   "language": "python",
   "name": "python2"
  },
  "language_info": {
   "codemirror_mode": {
    "name": "ipython",
    "version": 2
   },
   "file_extension": ".py",
   "mimetype": "text/x-python",
   "name": "python",
   "nbconvert_exporter": "python",
   "pygments_lexer": "ipython2",
   "version": "2.7.15rc1"
  }
 },
 "nbformat": 4,
 "nbformat_minor": 2
}
